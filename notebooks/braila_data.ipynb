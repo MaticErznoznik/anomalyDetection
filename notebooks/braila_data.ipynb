{
 "metadata": {
  "language_info": {
   "codemirror_mode": {
    "name": "ipython",
    "version": 3
   },
   "file_extension": ".py",
   "mimetype": "text/x-python",
   "name": "python",
   "nbconvert_exporter": "python",
   "pygments_lexer": "ipython3",
   "version": "3.7.9-final"
  },
  "orig_nbformat": 2,
  "kernelspec": {
   "name": "python3",
   "display_name": "Python 3",
   "language": "python"
  }
 },
 "nbformat": 4,
 "nbformat_minor": 2,
 "cells": [
  {
   "cell_type": "code",
   "execution_count": null,
   "metadata": {},
   "outputs": [],
   "source": [
    "import csv\n",
    "import plotly.graph_objects as go"
   ]
  },
  {
   "cell_type": "code",
   "execution_count": null,
   "metadata": {},
   "outputs": [],
   "source": [
    "reader = csv.reader(open(\"../data/consumer/braila_test.csv\", \"r\"), quoting=csv.QUOTE_NONNUMERIC)\n",
    "display(reader)"
   ]
  },
  {
   "cell_type": "code",
   "execution_count": null,
   "metadata": {},
   "outputs": [],
   "source": [
    "data = []\n",
    "\n",
    "trace = go.Scattergl(name=\"pressure\", x=st_tock_rezanja, y=y_tockovno)\n",
    "data.append(trace)\n",
    "trace = go.Scattergl(name=\"Diagonalno\", x=st_tock_rezanja, y=y_diag)\n",
    "data.append(trace)\n",
    "\n",
    "fig = go.Figure(data=data)\n",
    "\n",
    "fig.add_trace(go.Scatter(x=[2,5], y=[enotockovno_pov, enotockovno_pov], mode=\"lines\", name=\"Enotočkovno\",\n",
    "    line=dict(\n",
    "        color=\"LightSeaGreen\",\n",
    "        width=3,\n",
    "        dash=\"dot\",\n",
    "    )))\n",
    "\n",
    "\n",
    "fig.add_trace(go.Scatter(x=[2,5], y=[globalno_pov, globalno_pov], mode=\"lines\", name=\"Globalno\",\n",
    "    line=dict(\n",
    "        color=\"MediumPurple\",\n",
    "        width=3,\n",
    "        dash=\"dot\",\n",
    "    )))\n",
    "\n",
    "fig.add_trace(go.Scatter(x=[2,5], y=[utezeno_globalno_pov, utezeno_globalno_pov], mode=\"lines\", name=\"Uteženo globalno\",\n",
    "    line=dict(\n",
    "        color=\"red\",\n",
    "        width=3,\n",
    "        dash=\"dot\",\n",
    "    )))\n",
    "\n",
    "tit = \"Število ocenjevanj: \" + str(i+velikost_zacetne)\n",
    "fig.update_layout(title=tit, xaxis_title=\"Število točk rezanja\", yaxis_title=\"Najboljša ocena\")\n",
    "\n",
    "fig.show()"
   ]
  }
 ]
}