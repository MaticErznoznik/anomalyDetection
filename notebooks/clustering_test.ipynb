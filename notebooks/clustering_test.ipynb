{
 "metadata": {
  "language_info": {
   "codemirror_mode": {
    "name": "ipython",
    "version": 3
   },
   "file_extension": ".py",
   "mimetype": "text/x-python",
   "name": "python",
   "nbconvert_exporter": "python",
   "pygments_lexer": "ipython3",
   "version": "3.8.0"
  },
  "orig_nbformat": 2,
  "kernelspec": {
   "name": "python380jvsc74a57bd0962e07b5078cd6dc30adb6d73dd27a95e9b6b13db2f80134fcc6a013dcd21ea6",
   "display_name": "Python 3.8.0 64-bit (conda)"
  }
 },
 "nbformat": 4,
 "nbformat_minor": 2,
 "cells": [
  {
   "cell_type": "code",
   "execution_count": null,
   "metadata": {},
   "outputs": [],
   "source": [
    "import matplotlib.pyplot as plt\n",
    "from sklearn.cluster import DBSCAN\n",
    "import numpy as np\n",
    "from scipy.spatial import distance\n",
    "import pandas as pd"
   ]
  },
  {
   "cell_type": "code",
   "execution_count": null,
   "metadata": {},
   "outputs": [],
   "source": [
    "data = np.array([\n",
    "    [0, 0.2],\n",
    "    [0.2, 0.234],\n",
    "    [0.3, 0.12],\n",
    "    [0.11, 0.0456],\n",
    "    [0.01, 0.07996],\n",
    "    [1.3, 0.211],\n",
    "    [1, 1.65],\n",
    "    [1.2, 1.22],\n",
    "    [1.332, 1.03],\n",
    "    [1.222, 1.01],\n",
    "    [1.554, 1.44],\n",
    "    [10.3, 10.44],\n",
    "    [9.8, 11.3],\n",
    "    [15.433, 16.4]\n",
    "])\n",
    "\n",
    "dbscan = DBSCAN(eps=0.98, min_samples=3)\n",
    "model = dbscan.fit(data)\n",
    "clusters = model.labels_\n",
    "\n",
    "# identify core samples\n",
    "core_samples = np.zeros_like(model.labels_, dtype=bool)\n",
    "core_samples[dbscan.core_sample_indices_] = True\n",
    "print(core_samples)"
   ]
  },
  {
   "cell_type": "code",
   "execution_count": null,
   "metadata": {},
   "outputs": [],
   "source": [
    "\n",
    "in_out = []\n",
    "threshold = 0.18\n",
    "for i in range(0, len(data)):\n",
    "    in_out.append(True)\n",
    "for i, row1 in enumerate(data):\n",
    "    if(core_samples[i] == True):\n",
    "        for j, row2 in enumerate(data):\n",
    "            if(core_samples[j] == False):\n",
    "                if(row1[0] != row2[0]):\n",
    "                    euclidian_dist = distance.euclidean(row1, row2)\n",
    "                    if(euclidian_dist <= threshold):\n",
    "                        in_out[j] = True\n",
    "                    else:\n",
    "                        in_out[j] = False"
   ]
  },
  {
   "cell_type": "code",
   "execution_count": null,
   "metadata": {},
   "outputs": [],
   "source": [
    "plt.scatter(data[:, 0], data[:, 1], c=in_out)"
   ]
  },
  {
   "cell_type": "code",
   "execution_count": null,
   "metadata": {},
   "outputs": [],
   "source": [
    "data = np.array([\n",
    "    [10, 20.96],\n",
    "    [10.0, 1.0],\n",
    "    [10.4, 21.1],\n",
    "    [0.2, 0.9],\n",
    "    [10.4, 20.098],\n",
    "    [9.99, 20.44],\n",
    "    [9.988, 20.656],\n",
    "    [10.443, 21],\n",
    "    [10.454, 20.546],\n",
    "    [9.995, 20.99]\n",
    "])\n",
    "\n",
    "dbscan = DBSCAN(eps=0.98, min_samples=3)\n",
    "model = dbscan.fit(data)\n",
    "clusters = model.labels_\n",
    "\n",
    "# identify core samples\n",
    "core_samples = np.zeros_like(model.labels_, dtype=bool)\n",
    "core_samples[dbscan.core_sample_indices_] = True\n",
    "\n",
    "in_out = []\n",
    "threshold = 0.18\n",
    "for i in range(0, len(data)):\n",
    "    in_out.append(True)\n",
    "for i, row1 in enumerate(data):\n",
    "    if(core_samples[i] == True):\n",
    "        for j, row2 in enumerate(data):\n",
    "            if(core_samples[j] == False):\n",
    "                if(row1[0] != row2[0]):\n",
    "                    euclidian_dist = distance.euclidean(row1, row2)\n",
    "                    if(euclidian_dist <= threshold):\n",
    "                        in_out[j] = True\n",
    "                    else:\n",
    "                        in_out[j] = False\n",
    "\n",
    "plt.scatter(data[:, 0], data[:, 1], c=in_out)"
   ]
  },
  {
   "cell_type": "code",
   "execution_count": null,
   "metadata": {},
   "outputs": [],
   "source": [
    "timestamps = [1459926000 + 3600*x for x in range(14)]\n",
    "\n",
    "data = [\n",
    "    [10.3, 10.44],\n",
    "    [9.8, 11.3],\n",
    "    [15.433, 16.4],\n",
    "    [0, 0.2],\n",
    "    [0.2, 0.234],\n",
    "    [0.3, 0.12],\n",
    "    [0.11, 0.0456],\n",
    "    [0.01, 0.07996],\n",
    "    [1.3, 0.211],\n",
    "    [1, 1.65],\n",
    "    [1.2, 1.22],\n",
    "    [1.332, 1.03],\n",
    "    [1.222, 1.01],\n",
    "    [1.554, 1.44]\n",
    "]\n",
    "\n",
    "df = pd.DataFrame({'timestamp': timestamps, 'ftr_vector': data})\n",
    "\n",
    "print(df)\n",
    "\n",
    "new_row = {\"timestamp\": 1459929000, \"ftr_vector\": [100, 200]}\n",
    "df = df.append(new_row, ignore_index=True)\n",
    "\n",
    "print(df)"
   ]
  },
  {
   "cell_type": "code",
   "execution_count": null,
   "metadata": {},
   "outputs": [],
   "source": []
  }
 ]
}